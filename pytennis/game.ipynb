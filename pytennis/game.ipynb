{
 "cells": [
  {
   "cell_type": "code",
   "execution_count": null,
   "metadata": {},
   "outputs": [],
   "source": []
  },
  {
   "cell_type": "code",
   "execution_count": 1,
   "metadata": {},
   "outputs": [],
   "source": [
    "import numpy as np\n",
    "\n",
    "\n",
    "class Network:\n",
    "    def __init__(self, xmin, xmax, ymin, ymax):\n",
    "        \"\"\"\n",
    "        xmin: 150,\n",
    "        xmax: 450, \n",
    "        ymin: 100, \n",
    "        ymax: 600\n",
    "        \"\"\"\n",
    "        \n",
    "        self.StaticDiscipline = {\n",
    "            'xmin': xmin, \n",
    "            'xmax': xmax, \n",
    "            'ymin': ymin, \n",
    "            'ymax': ymax\n",
    "        }\n",
    "\n",
    "    def network(self, xsource, ysource = 100, Ynew = 600, divisor = 50): #ysource will always be 100\n",
    "        \"\"\"\n",
    "        For Network A\n",
    "        ysource: will always be 100\n",
    "        xsource: will always be between xmin and xmax (static discipline)\n",
    "        \n",
    "        For Network B\n",
    "        ysource: will always be 600\n",
    "        xsource: will always be between xmin and xmax (static discipline)\n",
    "        \"\"\"\n",
    "        \n",
    "        while True:\n",
    "            ListOfXsourceYSource = []\n",
    "            Xnew = np.random.choice([i for i in range(self.StaticDiscipline['xmin'], self.StaticDiscipline['xmax'])], 1)\n",
    "            #Ynew = np.random.choice([i for i in range(self.StaticDiscipline['ymin'], self.StaticDiscipline['ymax'])], 1)\n",
    "\n",
    "            source = (xsource, ysource)\n",
    "            target = (Xnew[0], Ynew)\n",
    "\n",
    "            #Slope and intercept\n",
    "            slope = (ysource - Ynew)/(xsource - Xnew[0])\n",
    "            intercept = ysource - (slope*xsource)\n",
    "            if (slope != np.inf) and (intercept != np.inf):\n",
    "                break\n",
    "            else:\n",
    "                continue\n",
    "                \n",
    "        #print(source, target)\n",
    "        # randomly select 50 new values along the slope between xsource and xnew (monotonically decreasing/increasing)\n",
    "        XNewList = [xsource]\n",
    "\n",
    "        if xsource < Xnew:\n",
    "            differences = Xnew[0] - xsource\n",
    "            increment = differences /divisor\n",
    "            newXval = xsource\n",
    "            for i in range(divisor):\n",
    "\n",
    "                newXval += increment\n",
    "                XNewList.append(int(newXval))\n",
    "        else:\n",
    "            differences = xsource - Xnew[0]\n",
    "            decrement = differences /divisor\n",
    "            newXval = xsource\n",
    "            for i in range(divisor):\n",
    "\n",
    "                newXval -= decrement\n",
    "                XNewList.append(int(newXval))\n",
    "                \n",
    "\n",
    "        #determine the values of y, from the new values of x, using y= mx + c\n",
    "        yNewList = []\n",
    "        for i in XNewList:\n",
    "            findy = (slope * i) + intercept#y = mx + c\n",
    "            yNewList.append(int(findy))\n",
    "\n",
    "        ListOfXsourceYSource = [(x, y) for x, y in zip(XNewList, yNewList)]\n",
    "\n",
    "        return XNewList, yNewList\n",
    "    \n",
    "\n",
    "    \n",
    "   "
   ]
  },
  {
   "cell_type": "code",
   "execution_count": 17,
   "metadata": {},
   "outputs": [],
   "source": [
    "# Testing\n",
    "net = Network(150,450,100,600)\n",
    "NetworkA = net.network(300, ysource = 100, Ynew = 600) #Network A\n",
    "NetworkB = net.network(200, ysource = 600, Ynew = 100) #Network B\n",
    "#NetworkA"
   ]
  },
  {
   "cell_type": "code",
   "execution_count": 18,
   "metadata": {},
   "outputs": [
    {
     "data": {
      "image/png": "[encoded data removed]",
      "text/plain": [
       "<Figure size 432x432 with 3 Axes>"
      ]
     },
     "metadata": {
      "needs_background": "light"
     },
     "output_type": "display_data"
    }
   ],
   "source": [
    "import seaborn as sns\n",
    "import matplotlib.pyplot as plt\n",
    "sns.jointplot(NetworkA[0], NetworkA[1])\n",
    "plt.show()"
   ]
  },
  {
   "cell_type": "code",
   "execution_count": 19,
   "metadata": {},
   "outputs": [
    {
     "data": {
      "text/plain": [
       "<seaborn.axisgrid.JointGrid at 0x7f85a7c80da0>"
      ]
     },
     "execution_count": 19,
     "metadata": {},
     "output_type": "execute_result"
    },
    {
     "data": {
      "image/png": "[encoded data removed]",
      "text/plain": [
       "<Figure size 432x432 with 3 Axes>"
      ]
     },
     "metadata": {
      "needs_background": "light"
     },
     "output_type": "display_data"
    }
   ],
   "source": [
    "sns.jointplot(NetworkB[0], NetworkB[1])"
   ]
  },
  {
   "cell_type": "code",
   "execution_count": 13,
   "metadata": {},
   "outputs": [],
   "source": [
    "#NetworkB"
   ]
  },
  {
   "cell_type": "code",
   "execution_count": 14,
   "metadata": {},
   "outputs": [
    {
     "name": "stdout",
     "output_type": "stream",
     "text": [
      "[251, 252, 253, 254, 255, 256, 257, 258, 259, 260, 261, 262, 263, 264, 265, 266, 267, 268, 269, 270, 271, 272, 273, 274, 275, 276, 277, 278, 279, 280, 281, 282, 283, 284, 285, 286, 287, 288, 289, 290, 291, 292, 293, 294, 295, 296, 297, 298, 299, 300]\n"
     ]
    }
   ],
   "source": [
    "DefaultPositionA = 300\n",
    "DefaultPositionB = 300\n",
    "\n",
    "def DefaultToPosition(x1, x2 = 300, divisor = 50):\n",
    "    XNewList = []\n",
    "    if x1 < x2:\n",
    "        differences = x2 - x1\n",
    "        increment = differences /divisor\n",
    "        newXval = x1\n",
    "        for i in range(divisor):\n",
    "            newXval += increment\n",
    "            XNewList.append(int(np.floor(newXval)))\n",
    "            \n",
    "    else:\n",
    "        differences = x1 - x2\n",
    "        decrement = differences /divisor\n",
    "        newXval = x1\n",
    "        for i in range(divisor):\n",
    "            newXval -= decrement\n",
    "            XNewList.append(int(np.floor(newXval)))\n",
    "    return XNewList\n",
    "            \n",
    "            \n",
    "out = DefaultToPosition(250)\n",
    "print(out)"
   ]
  },
  {
   "cell_type": "code",
   "execution_count": 15,
   "metadata": {},
   "outputs": [
    {
     "name": "stdout",
     "output_type": "stream",
     "text": [
      "251 400 100\n"
     ]
    }
   ],
   "source": [
    "j, x, y = next(zip(out, NetworkA[0], NetworkA[1]))\n",
    "print(j, x, y)"
   ]
  },
  {
   "cell_type": "code",
   "execution_count": 16,
   "metadata": {},
   "outputs": [
    {
     "name": "stdout",
     "output_type": "stream",
     "text": [
      "pygame 1.9.6\n",
      "Hello from the pygame community. https://www.pygame.org/contribute.html\n"
     ]
    },
    {
     "ename": "SystemExit",
     "evalue": "",
     "output_type": "error",
     "traceback": [
      "An exception has occurred, use %tb to see the full traceback.\n",
      "\u001b[0;31mSystemExit\u001b[0m\n"
     ]
    },
    {
     "name": "stderr",
     "output_type": "stream",
     "text": [
      "/home/qwerty/anaconda3/lib/python3.7/site-packages/IPython/core/interactiveshell.py:2890: UserWarning: To exit: use 'exit', 'quit', or Ctrl-D.\n",
      "  warn(\"To exit: use 'exit', 'quit', or Ctrl-D.\", stacklevel=1)\n"
     ]
    }
   ],
   "source": [
    "import pygame, sys\n",
    "from pygame.locals import *\n",
    "pygame.init()\n",
    "import time\n",
    "\n",
    "FPS = 50\n",
    "fpsClock = pygame.time.Clock()\n",
    "\n",
    "# set up the window\n",
    "DISPLAYSURF = pygame.display.set_mode((600, 700), 0, 32)\n",
    "pygame.display.set_caption('REINFORCEMENT LEARNING (Discrete Mathematics) - TABLE TENNIS')\n",
    "# set up the colors\n",
    "BLACK = ( 0,0,0)\n",
    "WHITE = (255, 255, 255)\n",
    "RED= (255,0,0)\n",
    "GREEN = ( 0, 255,0)\n",
    "BLUE = ( 0,0, 255)\n",
    "\n",
    "# draw on the surface object\n",
    "def display():\n",
    "    DISPLAYSURF.fill(WHITE)\n",
    "    pygame.draw.rect(DISPLAYSURF, GREEN, (150, 100, 300, 500))\n",
    "    pygame.draw.rect(DISPLAYSURF, RED, (150, 340, 300, 20))\n",
    "    pygame.draw.rect(DISPLAYSURF, BLACK, (0, 20, 600, 20))\n",
    "    pygame.draw.rect(DISPLAYSURF, BLACK, (0, 660, 600, 20))\n",
    "    return\n",
    "\n",
    "# pixObj = pygame.PixelArray(DISPLAYSURF)\n",
    "# del pixObj\n",
    "\n",
    "\n",
    "PLAYERA = pygame.image.load('images/cap.jpg')\n",
    "PLAYERA = pygame.transform.scale(PLAYERA, (50, 50))\n",
    "PLAYERB = pygame.image.load('images/cap.jpg')\n",
    "PLAYERB = pygame.transform.scale(PLAYERB, (50, 50))\n",
    "ball = pygame.image.load('images/ball.png')\n",
    "ball = pygame.transform.scale(ball, (15, 15))\n",
    "\n",
    "playerax = 150\n",
    "playerbx = 250\n",
    "directionA = 'right'\n",
    "directionB = 'right'\n",
    "ballDirection = 'top'\n",
    "ballx = 250\n",
    "bally = 300\n",
    "\n",
    "\n",
    "\n",
    "nextplayer = 'A'\n",
    "lastxcoordinate = 350\n",
    "count = 0\n",
    "while True:\n",
    "    display()\n",
    "    if nextplayer == 'A':\n",
    "        #playerA should play\n",
    "        if count == 0:\n",
    "            #playerax = lastxcoordinate\n",
    "            NetworkA = net.network(lastxcoordinate, ysource = 100, Ynew = 600) #Network A\n",
    "            out = DefaultToPosition(lastxcoordinate)\n",
    "            \n",
    "            #update lastxcoordinate\n",
    "            \n",
    "            bally = NetworkA[1][count]\n",
    "            playerax = ballx\n",
    "            count += 1\n",
    "#             soundObj = pygame.mixer.Sound('sound/sound.wav')\n",
    "#             soundObj.play()\n",
    "#             time.sleep(0.4)\n",
    "#             soundObj.stop()\n",
    "        else:\n",
    "            ballx = NetworkA[0][count]\n",
    "            bally = NetworkA[1][count]\n",
    "            playerbx = ballx\n",
    "            playerax = out[count]\n",
    "            count += 1\n",
    "        \n",
    "        #let playerB play after 50 new coordinate of ball movement\n",
    "        if count == 49:\n",
    "            count = 0\n",
    "            nextplayer = 'B'\n",
    "        else:\n",
    "            nextplayer = 'A'\n",
    "            \n",
    "\n",
    "            \n",
    "        \n",
    "        \n",
    "    else:\n",
    "        #playerB can play\n",
    "        if count == 0:\n",
    "            #playerbx = lastxcoordinate\n",
    "            NetworkB = net.network(lastxcoordinate, ysource = 600, Ynew = 100) #Network B\n",
    "            out = DefaultToPosition(lastxcoordinate)\n",
    "            \n",
    "            #update lastxcoordinate\n",
    "            bally = NetworkB[1][count]\n",
    "            playerbx = ballx\n",
    "            count += 1\n",
    "            \n",
    "#             soundObj = pygame.mixer.Sound('sound/sound.wav')\n",
    "#             soundObj.play()\n",
    "#             time.sleep(0.4)\n",
    "#             soundObj.stop()\n",
    "        else:\n",
    "            ballx = NetworkB[0][count]\n",
    "            bally = NetworkB[1][count]\n",
    "            playerbx = out[count]\n",
    "            playerax = ballx\n",
    "            count += 1\n",
    "        #update lastxcoordinate\n",
    "        \n",
    "        #let playerA play after 50 new coordinate of ball movement\n",
    "        if count == 49:\n",
    "            count = 0\n",
    "            nextplayer = 'A'\n",
    "        else:\n",
    "            nextplayer = 'B'\n",
    "    \n",
    "        \n",
    "        \n",
    "            \n",
    "    #CHECK BALL MOVEMENT\n",
    "    DISPLAYSURF.blit(PLAYERA, (playerax, 50))\n",
    "    DISPLAYSURF.blit(PLAYERB, (playerbx, 600))\n",
    "    DISPLAYSURF.blit(ball, (ballx, bally))\n",
    "    \n",
    "    #update last coordinate\n",
    "    lastxcoordinate = ballx \n",
    "    \n",
    "\n",
    "\n",
    "    pygame.display.update()\n",
    "    fpsClock.tick(FPS)\n",
    "    \n",
    "    for event in pygame.event.get():\n",
    "\n",
    "        if event.type == QUIT:\n",
    "            pygame.quit()\n",
    "            sys.exit()\n",
    "    \n",
    "            \n",
    "        \n",
    "        \n",
    "        \n",
    "            \n",
    "            \n",
    "    "
   ]
  },
  {
   "cell_type": "code",
   "execution_count": null,
   "metadata": {},
   "outputs": [],
   "source": []
  },
  {
   "cell_type": "markdown",
   "metadata": {},
   "source": [
    "# Define DQN Network"
   ]
  },
  {
   "cell_type": "code",
   "execution_count": 1,
   "metadata": {},
   "outputs": [
    {
     "name": "stderr",
     "output_type": "stream",
     "text": [
      "Using TensorFlow backend.\n"
     ]
    }
   ],
   "source": [
    "import keras\n",
    "import tensorflow.compat.v1 as tf\n",
    "from tensorflow.compat.v1.keras import models, Sequential, layers"
   ]
  },
  {
   "cell_type": "code",
   "execution_count": 3,
   "metadata": {},
   "outputs": [],
   "source": [
    "def QNetwork(X_state, name):\n",
    "    \n",
    "    with tf.variable_scope(name, reuse = tf.AUTO_REUSE) as scope:\n",
    "    \n",
    "        hid1 = tf.layers.dense(X_state, 16, activation = 'relu')\n",
    "        hid2 = tf.layers.dense(hid1, 12 , activation= 'relu')\n",
    "        outputs = tf.layers.dense(hid2, 10, activation = 'softmax')\n",
    "\n",
    "    trainable_vars = tf.get_collection(tf.GraphKeys.TRAINABLE_VARIABLES, \n",
    "                                        scope = scope.name)\n",
    "    trainable_vars_by_name = {var.name[len(scope.name):]: var for var in trainable_vars}\n",
    "    return outputs, trainable_vars_by_name\n",
    "    "
   ]
  },
  {
   "cell_type": "code",
   "execution_count": 4,
   "metadata": {},
   "outputs": [
    {
     "name": "stdout",
     "output_type": "stream",
     "text": [
      "WARNING:tensorflow:From <ipython-input-3-c33d0683bfe7>:5: dense (from tensorflow.python.layers.core) is deprecated and will be removed in a future version.\n",
      "Instructions for updating:\n",
      "Use keras.layers.dense instead.\n",
      "WARNING:tensorflow:From /home/qwerty/.local/lib/python3.7/site-packages/tensorflow/python/ops/init_ops.py:1251: calling VarianceScaling.__init__ (from tensorflow.python.ops.init_ops) with dtype is deprecated and will be removed in a future version.\n",
      "Instructions for updating:\n",
      "Call initializer instance with the dtype argument instead of passing it to the constructor\n",
      "WARNING:tensorflow:Entity <bound method Dense.call of <tensorflow.python.layers.core.Dense object at 0x7efef4ba6320>> could not be transformed and will be executed as-is. Please report this to the AutgoGraph team. When filing the bug, set the verbosity to 10 (on Linux, `export AUTOGRAPH_VERBOSITY=10`) and attach the full output. Cause: converting <bound method Dense.call of <tensorflow.python.layers.core.Dense object at 0x7efef4ba6320>>: AttributeError: module 'gast' has no attribute 'Index'\n",
      "WARNING: Entity <bound method Dense.call of <tensorflow.python.layers.core.Dense object at 0x7efef4ba6320>> could not be transformed and will be executed as-is. Please report this to the AutgoGraph team. When filing the bug, set the verbosity to 10 (on Linux, `export AUTOGRAPH_VERBOSITY=10`) and attach the full output. Cause: converting <bound method Dense.call of <tensorflow.python.layers.core.Dense object at 0x7efef4ba6320>>: AttributeError: module 'gast' has no attribute 'Index'\n",
      "WARNING:tensorflow:Entity <bound method Dense.call of <tensorflow.python.layers.core.Dense object at 0x7eff406cd5c0>> could not be transformed and will be executed as-is. Please report this to the AutgoGraph team. When filing the bug, set the verbosity to 10 (on Linux, `export AUTOGRAPH_VERBOSITY=10`) and attach the full output. Cause: converting <bound method Dense.call of <tensorflow.python.layers.core.Dense object at 0x7eff406cd5c0>>: AttributeError: module 'gast' has no attribute 'Index'\n",
      "WARNING: Entity <bound method Dense.call of <tensorflow.python.layers.core.Dense object at 0x7eff406cd5c0>> could not be transformed and will be executed as-is. Please report this to the AutgoGraph team. When filing the bug, set the verbosity to 10 (on Linux, `export AUTOGRAPH_VERBOSITY=10`) and attach the full output. Cause: converting <bound method Dense.call of <tensorflow.python.layers.core.Dense object at 0x7eff406cd5c0>>: AttributeError: module 'gast' has no attribute 'Index'\n",
      "WARNING:tensorflow:Entity <bound method Dense.call of <tensorflow.python.layers.core.Dense object at 0x7eff406cd5c0>> could not be transformed and will be executed as-is. Please report this to the AutgoGraph team. When filing the bug, set the verbosity to 10 (on Linux, `export AUTOGRAPH_VERBOSITY=10`) and attach the full output. Cause: converting <bound method Dense.call of <tensorflow.python.layers.core.Dense object at 0x7eff406cd5c0>>: AttributeError: module 'gast' has no attribute 'Index'\n",
      "WARNING: Entity <bound method Dense.call of <tensorflow.python.layers.core.Dense object at 0x7eff406cd5c0>> could not be transformed and will be executed as-is. Please report this to the AutgoGraph team. When filing the bug, set the verbosity to 10 (on Linux, `export AUTOGRAPH_VERBOSITY=10`) and attach the full output. Cause: converting <bound method Dense.call of <tensorflow.python.layers.core.Dense object at 0x7eff406cd5c0>>: AttributeError: module 'gast' has no attribute 'Index'\n",
      "WARNING:tensorflow:Entity <bound method Dense.call of <tensorflow.python.layers.core.Dense object at 0x7eff40700470>> could not be transformed and will be executed as-is. Please report this to the AutgoGraph team. When filing the bug, set the verbosity to 10 (on Linux, `export AUTOGRAPH_VERBOSITY=10`) and attach the full output. Cause: converting <bound method Dense.call of <tensorflow.python.layers.core.Dense object at 0x7eff40700470>>: AttributeError: module 'gast' has no attribute 'Index'\n",
      "WARNING: Entity <bound method Dense.call of <tensorflow.python.layers.core.Dense object at 0x7eff40700470>> could not be transformed and will be executed as-is. Please report this to the AutgoGraph team. When filing the bug, set the verbosity to 10 (on Linux, `export AUTOGRAPH_VERBOSITY=10`) and attach the full output. Cause: converting <bound method Dense.call of <tensorflow.python.layers.core.Dense object at 0x7eff40700470>>: AttributeError: module 'gast' has no attribute 'Index'\n",
      "WARNING:tensorflow:Entity <bound method Dense.call of <tensorflow.python.layers.core.Dense object at 0x7eff40700470>> could not be transformed and will be executed as-is. Please report this to the AutgoGraph team. When filing the bug, set the verbosity to 10 (on Linux, `export AUTOGRAPH_VERBOSITY=10`) and attach the full output. Cause: converting <bound method Dense.call of <tensorflow.python.layers.core.Dense object at 0x7eff40700470>>: AttributeError: module 'gast' has no attribute 'Index'\n",
      "WARNING: Entity <bound method Dense.call of <tensorflow.python.layers.core.Dense object at 0x7eff40700470>> could not be transformed and will be executed as-is. Please report this to the AutgoGraph team. When filing the bug, set the verbosity to 10 (on Linux, `export AUTOGRAPH_VERBOSITY=10`) and attach the full output. Cause: converting <bound method Dense.call of <tensorflow.python.layers.core.Dense object at 0x7eff40700470>>: AttributeError: module 'gast' has no attribute 'Index'\n",
      "WARNING:tensorflow:Entity <bound method Dense.call of <tensorflow.python.layers.core.Dense object at 0x7eff40700470>> could not be transformed and will be executed as-is. Please report this to the AutgoGraph team. When filing the bug, set the verbosity to 10 (on Linux, `export AUTOGRAPH_VERBOSITY=10`) and attach the full output. Cause: converting <bound method Dense.call of <tensorflow.python.layers.core.Dense object at 0x7eff40700470>>: AttributeError: module 'gast' has no attribute 'Index'\n",
      "WARNING: Entity <bound method Dense.call of <tensorflow.python.layers.core.Dense object at 0x7eff40700470>> could not be transformed and will be executed as-is. Please report this to the AutgoGraph team. When filing the bug, set the verbosity to 10 (on Linux, `export AUTOGRAPH_VERBOSITY=10`) and attach the full output. Cause: converting <bound method Dense.call of <tensorflow.python.layers.core.Dense object at 0x7eff40700470>>: AttributeError: module 'gast' has no attribute 'Index'\n"
     ]
    }
   ],
   "source": [
    "X_state = tf.placeholder(tf.float32, shape = (None, 1), name = 'X')\n",
    "\n",
    "online_q_values, online_vars = QNetwork(X_state, name= 'q_networks/online')\n",
    "target_q_values, target_vars = QNetwork(X_state, name= 'q_networks/target')"
   ]
  },
  {
   "cell_type": "code",
   "execution_count": 5,
   "metadata": {},
   "outputs": [],
   "source": [
    "copy_ops = [target_var.assign(online_vars[var_name]) for var_name, target_var in target_vars.items()] \n",
    "copy_online_to_target = tf.group(*copy_ops)"
   ]
  },
  {
   "cell_type": "code",
   "execution_count": 6,
   "metadata": {},
   "outputs": [
    {
     "name": "stdout",
     "output_type": "stream",
     "text": [
      "WARNING:tensorflow:From <ipython-input-6-b80a061a1438>:3: calling reduce_sum_v1 (from tensorflow.python.ops.math_ops) with keep_dims is deprecated and will be removed in a future version.\n",
      "Instructions for updating:\n",
      "keep_dims is deprecated, use keepdims instead\n"
     ]
    }
   ],
   "source": [
    "X_action = tf.placeholder(tf.int32, shape = [None])\n",
    "q_value = tf.reduce_sum(target_q_values * tf.one_hot(X_action, 10), \n",
    "                       axis = 1, keep_dims = True)\n",
    "\n",
    "y = tf.placeholder(tf.float32, shape=[None, 1])\n",
    "error = tf.abs(y - q_value)\n",
    "clipped_error = tf.clip_by_value(error, 0.0, 1.0)\n",
    "linear_error = 2 * (error - clipped_error)\n",
    "loss = tf.reduce_mean(tf.square(clipped_error) + linear_error)"
   ]
  },
  {
   "cell_type": "code",
   "execution_count": 7,
   "metadata": {},
   "outputs": [
    {
     "name": "stdout",
     "output_type": "stream",
     "text": [
      "WARNING:tensorflow:From /home/qwerty/.local/lib/python3.7/site-packages/tensorflow/python/ops/math_grad.py:1250: add_dispatch_support.<locals>.wrapper (from tensorflow.python.ops.array_ops) is deprecated and will be removed in a future version.\n",
      "Instructions for updating:\n",
      "Use tf.where in 2.0, which has the same broadcast rule as np.where\n"
     ]
    }
   ],
   "source": [
    "learning_rate = 0.001\n",
    "momentum = 0.95\n",
    "global_step = tf.Variable(0, trainable=False, name='global_step')\n",
    "optimizer = tf.train.MomentumOptimizer(learning_rate, momentum, use_nesterov=True)\n",
    "training_op = optimizer.minimize(loss, global_step=global_step)\n",
    "init = tf.global_variables_initializer()\n",
    "saver = tf.train.Saver()"
   ]
  },
  {
   "cell_type": "code",
   "execution_count": 8,
   "metadata": {},
   "outputs": [],
   "source": [
    "from collections import deque\n",
    "replay_memory_size = 500000\n",
    "replay_memory = deque([], maxlen=replay_memory_size)"
   ]
  },
  {
   "cell_type": "code",
   "execution_count": 9,
   "metadata": {},
   "outputs": [],
   "source": [
    "def sample_memories(batch_size):\n",
    "    indices = np.random.permutation(len(replay_memory))[:batch_size]\n",
    "    cols = [[], [], [], [], []] # state, action, reward, next_state, continue\n",
    "    for idx in indices:\n",
    "        memory = replay_memory[idx]\n",
    "        for col, value in zip(cols, memory):\n",
    "            col.append(value)\n",
    "    cols = [np.array(col) for col in cols]\n",
    "    return (cols[0], cols[1], cols[2].reshape(-1, 1), cols[3],cols[4].reshape(-1, 1))"
   ]
  },
  {
   "cell_type": "code",
   "execution_count": 10,
   "metadata": {},
   "outputs": [],
   "source": [
    "eps_min = 0.1\n",
    "eps_max = 1.0\n",
    "eps_decay_steps = 2000000\n",
    "def epsilon_greedy(q_values, step):\n",
    "    epsilon = max(eps_min, eps_max - (eps_max-eps_min) * step/eps_decay_steps)\n",
    "    if np.random.rand() < epsilon:\n",
    "        return np.random.randint(n_outputs) # random action\n",
    "    else:\n",
    "        return np.argmax(q_values) # optimal action"
   ]
  },
  {
   "cell_type": "code",
   "execution_count": 11,
   "metadata": {},
   "outputs": [
    {
     "data": {
      "text/plain": [
       "'/home/qwerty/Desktop/Reinforcement learning/pytennis'"
      ]
     },
     "execution_count": 11,
     "metadata": {},
     "output_type": "execute_result"
    }
   ],
   "source": [
    "import os, sys\n",
    "os.getcwd()"
   ]
  },
  {
   "cell_type": "code",
   "execution_count": 12,
   "metadata": {},
   "outputs": [],
   "source": [
    "n_steps = 4000000 # total number of training steps\n",
    "training_start = 10000 # start training after 10,000 game iterations\n",
    "training_interval = 4 # run a training step every 4 game iterations\n",
    "save_steps = 1000 # save the model every 1,000 training steps\n",
    "copy_steps = 10000 # copy online DQN to target DQN every 10,000 training steps\n",
    "discount_rate = 0.99\n",
    "skip_start = 90 # Skip the start of every game (it's just waiting time).\n",
    "batch_size = 50\n",
    "iteration = 0 # game iterations\n",
    "checkpoint_path = \"./my_dqn.ckpt\"\n",
    "done = True # env needs to be reset"
   ]
  },
  {
   "cell_type": "code",
   "execution_count": null,
   "metadata": {},
   "outputs": [],
   "source": [
    "with tf.Session() as sess:\n",
    "    if os.path.isfile(checkpoint_path + \".index\"):\n",
    "        saver.restore(sess, checkpoint_path)\n",
    "    else:\n",
    "        init.run()\n",
    "        copy_online_to_target.run()\n",
    "    while True:\n",
    "        step = global_step.eval()\n",
    "        if step >= n_steps:\n",
    "            break\n",
    "        iteration += 1\n",
    "        if done: # game over, start again\n",
    "            obs = env.reset()\n",
    "            for skip in range(skip_start): # skip the start of each game\n",
    "                obs, reward, done, info = env.step(0)\n",
    "            state = preprocess_observation(obs)\n",
    "            \n",
    "            \n",
    "        # Online DQN evaluates what to do\n",
    "        q_values = online_q_values.eval(feed_dict={X_state: [state]})\n",
    "        action = epsilon_greedy(q_values, step)\n",
    "        \n",
    "        # Online DQN plays\n",
    "        obs, reward, done, info = env.step(action)\n",
    "        next_state = preprocess_observation(obs)\n",
    "        \n",
    "        \n",
    "        # Let's memorize what just happened\n",
    "        replay_memory.append((state, action, reward, next_state, 1.0 - done))\n",
    "        state = next_state\n",
    "        \n",
    "        if iteration < training_start or iteration % training_interval != 0:\n",
    "            continue # only train after warmup period and at regular intervals\n",
    "        \n",
    "        # Sample memories and use the target DQN to produce the target Q-Value\n",
    "        X_state_val, X_action_val, rewards, X_next_state_val, continues = (sample_memories(batch_size))\n",
    "        next_q_values = target_q_values.eval(feed_dict={X_state: X_next_state_val})\n",
    "        max_next_q_values = np.max(next_q_values, axis=1, keepdims=True)\n",
    "        y_val = rewards + continues * discount_rate * max_next_q_values\n",
    "        \n",
    "        # Train the online DQN\n",
    "        training_op.run(feed_dict={X_state: X_state_val,X_action: X_action_val, y: y_val})\n",
    "        \n",
    "        # Regularly copy the online DQN to the target DQN\n",
    "        if step % copy_steps == 0:\n",
    "            copy_online_to_target.run()\n",
    "        # And save regularly\n",
    "        if step % save_steps == 0:\n",
    "            saver.save(sess, checkpoint_path)\n",
    "        "
   ]
  }
 ],
 "metadata": {
  "kernelspec": {
   "display_name": "Python 3",
   "language": "python",
   "name": "python3"
  },
  "language_info": {
   "codemirror_mode": {
    "name": "ipython",
    "version": 3
   },
   "file_extension": ".py",
   "mimetype": "text/x-python",
   "name": "python",
   "nbconvert_exporter": "python",
   "pygments_lexer": "ipython3",
   "version": "3.7.3"
  }
 },
 "nbformat": 4,
 "nbformat_minor": 4
}
